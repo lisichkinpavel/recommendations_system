{
  "nbformat": 4,
  "nbformat_minor": 0,
  "metadata": {
    "colab": {
      "name": "rec dz2.ipynb",
      "provenance": [],
      "authorship_tag": "ABX9TyPvohTZibtfkZToEPFXXgAA",
      "include_colab_link": true
    },
    "kernelspec": {
      "name": "python3",
      "display_name": "Python 3"
    },
    "language_info": {
      "name": "python"
    }
  },
  "cells": [
    {
      "cell_type": "markdown",
      "metadata": {
        "id": "view-in-github",
        "colab_type": "text"
      },
      "source": [
        "<a href=\"https://colab.research.google.com/github/lisichkinpavel/recommendations_system/blob/lesson2/rec_dz2.ipynb\" target=\"_parent\"><img src=\"https://colab.research.google.com/assets/colab-badge.svg\" alt=\"Open In Colab\"/></a>"
      ]
    },
    {
      "cell_type": "markdown",
      "metadata": {
        "id": "AP2fhxW6385D"
      },
      "source": [
        "## Не успеваю доделать дз. Сдам позже.Спасибо!"
      ]
    },
    {
      "cell_type": "code",
      "metadata": {
        "id": "hg0YfaW437fT"
      },
      "source": [
        ""
      ],
      "execution_count": null,
      "outputs": []
    }
  ]
}